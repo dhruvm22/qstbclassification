{
 "cells": [
  {
   "cell_type": "code",
   "execution_count": 8,
   "metadata": {},
   "outputs": [],
   "source": [
    "import os\n",
    "import numpy as np\n"
   ]
  },
  {
   "cell_type": "code",
   "execution_count": 9,
   "metadata": {},
   "outputs": [],
   "source": [
    "def filter_positive_current(file_path):\n",
    "    # Read the data from the file\n",
    "    data = np.loadtxt(file_path)\n",
    "    \n",
    "    # Columns: 0 - time, 1 - membrane potential, 2 - corresponding current\n",
    "    time = data[:, 0]\n",
    "    membrane_potential = data[:, 1]\n",
    "    current = data[:, 2]\n",
    "    \n",
    "    # Filter rows where the current is positive\n",
    "    # positive_current_indices = current > 0\n",
    "    # filtered_data = data[positive_current_indices]\n",
    "    \n",
    "    return data\n"
   ]
  },
  {
   "cell_type": "code",
   "execution_count": 10,
   "metadata": {},
   "outputs": [],
   "source": [
    "\n",
    "def filter_by_membrane_potential(data):\n",
    "    if data.size == 0:\n",
    "        return data\n",
    "    \n",
    "    membrane_potential = data[:, 1]\n",
    "    \n",
    "    # Find the index where membrane potential is greater than 10 for the first time\n",
    "    start_index = np.argmax(membrane_potential > 10)\n",
    "    \n",
    "    # If no value is greater than 10, return an empty array\n",
    "    if membrane_potential[start_index] <= 10:\n",
    "        return np.array([])\n",
    "    \n",
    "    # Find the contiguous segment where membrane potential is less than 155\n",
    "    end_index = start_index\n",
    "    while end_index < len(membrane_potential) and membrane_potential[end_index] < 150:\n",
    "        end_index += 1\n",
    "    \n",
    "    # Slice the data to include only the desired segment\n",
    "    filtered_data = data[start_index:end_index]\n",
    "    \n",
    "    return filtered_data"
   ]
  },
  {
   "cell_type": "code",
   "execution_count": 11,
   "metadata": {},
   "outputs": [],
   "source": [
    "def adjust_time_column(data):\n",
    "    if data.size == 0:\n",
    "        return data\n",
    "    \n",
    "    # Subtract the time at index 0 from all time values\n",
    "    initial_time = data[0, 0]\n",
    "    data[:, 0] -= initial_time\n",
    "    \n",
    "    return data"
   ]
  },
  {
   "cell_type": "code",
   "execution_count": 12,
   "metadata": {},
   "outputs": [],
   "source": [
    "def filter_all_datasets(directory):\n",
    "    filtered_data_all = {}\n",
    "    \n",
    "    for filename in os.listdir(directory):\n",
    "        if filename.endswith(\".txt\"):\n",
    "            file_path = os.path.join(directory, filename)\n",
    "            filtered_data = filter_positive_current(file_path)\n",
    "            filtered_data = filter_by_membrane_potential(filtered_data)\n",
    "            filtered_data = adjust_time_column(filtered_data)\n",
    "            \n",
    "            # Store the filtered data\n",
    "            filtered_data_all[filename] = filtered_data\n",
    "            \n",
    "    return filtered_data_all\n"
   ]
  },
  {
   "cell_type": "code",
   "execution_count": 13,
   "metadata": {},
   "outputs": [],
   "source": [
    "def save_filtered_data(filtered_data_all, output_directory):\n",
    "    os.makedirs(output_directory, exist_ok=True)\n",
    "    \n",
    "    for filename, data in filtered_data_all.items():\n",
    "        output_file_path = os.path.join(output_directory, filename)\n",
    "        np.savetxt(output_file_path, data, fmt='%.6f')\n"
   ]
  },
  {
   "cell_type": "code",
   "execution_count": 14,
   "metadata": {},
   "outputs": [],
   "source": [
    "input_directory = 'datasets'\n",
    "# Directory to save the filtered datasets\n",
    "output_directory = 'datasetsfromunrelaxed'\n",
    "\n",
    "filtered_data_all = filter_all_datasets(input_directory)\n",
    "save_filtered_data(filtered_data_all, output_directory)"
   ]
  }
 ],
 "metadata": {
  "kernelspec": {
   "display_name": "base",
   "language": "python",
   "name": "python3"
  },
  "language_info": {
   "codemirror_mode": {
    "name": "ipython",
    "version": 3
   },
   "file_extension": ".py",
   "mimetype": "text/x-python",
   "name": "python",
   "nbconvert_exporter": "python",
   "pygments_lexer": "ipython3",
   "version": "3.11.7"
  }
 },
 "nbformat": 4,
 "nbformat_minor": 2
}
