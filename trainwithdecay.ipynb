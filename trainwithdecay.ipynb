{
  "cells": [
    {
      "cell_type": "code",
      "execution_count": 1,
      "metadata": {
        "id": "QXZ6Tuqc9Q-l"
      },
      "outputs": [],
      "source": [
        "# imports\n",
        "import snntorch as snn\n",
        "from snntorch import spikeplot as splt\n",
        "from snntorch import spikegen\n",
        "\n",
        "import torch\n",
        "import torch.nn as nn\n",
        "from torch.utils.data import DataLoader\n",
        "from torchvision import datasets, transforms\n",
        "\n",
        "import matplotlib.pyplot as plt\n",
        "import numpy as np\n",
        "import itertools"
      ]
    },
    {
      "cell_type": "code",
      "execution_count": 2,
      "metadata": {
        "id": "mfJUm-6T8aG2"
      },
      "outputs": [],
      "source": [
        "class vortex_lif(nn.Module):\n",
        "    def __init__(self, beta = 0.09, threshold=0.9, alpha=1, gamma = 50):\n",
        "        \"\"\"\n",
        "        Initialize the Vortex LIF model with given parameters.\n",
        "\n",
        "        Parameters:\n",
        "        beta (float): Decay rate of the magnetic vortex.\n",
        "        threshold (float): Threshold for spike generation.\n",
        "        alpha (float): Constant affecting input current scaling.\n",
        "        gamma (float): Constant affecting the vortex dynamics after spike happens.\n",
        "        \"\"\"\n",
        "        super(vortex_lif, self).__init__()\n",
        "\n",
        "        self.beta = beta\n",
        "        self.alpha = alpha\n",
        "        self.threshold = threshold\n",
        "        self.gamma = gamma\n",
        "\n",
        "\n",
        "        # Initialize a tensor to keep track of the trigger after a spike and mem reach till 0.1\n",
        "        self.trigger_tensor = None\n",
        "\n",
        "        self.spike_gradient = self.ATan.apply\n",
        "\n",
        "    def forward(self, input_, mem):\n",
        "        \"\"\"\n",
        "        Forward pass for the Vortex LIF neuron.\n",
        "\n",
        "        Parameters:\n",
        "        input_ (torch.Tensor): Input current.\n",
        "        mem (torch.Tensor): Membrane potential.\n",
        "\n",
        "        Returns:\n",
        "        spk (torch.Tensor): Spike output.\n",
        "        mem (torch.Tensor): Updated membrane potential.\n",
        "        \"\"\"\n",
        "        input_ = torch.relu(input_)\n",
        "\n",
        "        dt = 1  # Time step for the simulation\n",
        "\n",
        "        # Calculate spikes using the custom gradient function\n",
        "        spk = self.spike_gradient(mem)\n",
        "\n",
        "        # Initialize decay timer if not already initialized\n",
        "        if self.trigger_tensor is None:\n",
        "            self.trigger_tensor = torch.zeros_like(mem)\n",
        "\n",
        "\n",
        "\n",
        "        trigger = torch.ones_like(mem)  \n",
        "        \n",
        "        # Update trigger tensor: zero where no spike and one where spike\n",
        "        self.trigger_tensor = torch.where(spk > 0, trigger, self.trigger_tensor)\n",
        "\n",
        "\n",
        "        # dummy tensor to keep track updated mem due to spike based trigger\n",
        "        updated_mem_due_to_trigger = torch.where(self.trigger_tensor > 0, torch.max(0.1 * torch.ones_like(mem), mem - mem * self.gamma * input_ * dt), torch.zeros_like(mem))\n",
        "\n",
        "\n",
        "        # Update the membrane potential based on vortex dynamicsDecrease the triggered otherwise increase\n",
        "        mem = torch.where(self.trigger_tensor > 0, torch.max(0.1 * torch.ones_like(mem), (mem - mem * self.gamma * input_ * dt).detach()), mem + mem * (input_ * self.alpha - self.beta) * dt)\n",
        "\n",
        "\n",
        "        # Keep the trigger on if dummy > 0.1, otherwise turn it off\n",
        "        self.trigger_tensor = torch.where(updated_mem_due_to_trigger > 0.1, self.trigger_tensor, torch.zeros_like(self.trigger_tensor))\n",
        "\n",
        "        return spk, mem\n",
        "\n",
        "    @staticmethod\n",
        "    class ATan(torch.autograd.Function):\n",
        "        @staticmethod\n",
        "        def forward(ctx, mem):\n",
        "            \"\"\"\n",
        "            Forward pass for the custom spike gradient.\n",
        "\n",
        "            Parameters:\n",
        "            ctx: Context object to store information for backward computation.\n",
        "            mem (torch.Tensor): Membrane potential.\n",
        "\n",
        "            Returns:\n",
        "            spk (torch.Tensor): Spike output using a Heaviside step function.\n",
        "            \"\"\"\n",
        "            spk = ((mem - 0.9) > 0).float()  # Heaviside on the forward pass\n",
        "            ctx.save_for_backward(mem)  # store the membrane for use in the backward pass\n",
        "            return spk\n",
        "\n",
        "        @staticmethod\n",
        "        def backward(ctx, grad_output):\n",
        "            \"\"\"\n",
        "            Backward pass for the custom spike gradient.\n",
        "\n",
        "            Parameters:\n",
        "            ctx: Context object containing saved tensors.\n",
        "            grad_output (torch.Tensor): Gradient of the loss w.r.t. output.\n",
        "\n",
        "            Returns:\n",
        "            grad (torch.Tensor): Gradient of the loss w.r.t. input.\n",
        "            \"\"\"\n",
        "            (mem,) = ctx.saved_tensors  # retrieve the membrane potential\n",
        "\n",
        "            # Compute the gradient using an arctangent approximation\n",
        "            grad = 1 / (1 + (torch.pi * (mem - 0.9)).pow_(2)) * grad_output * mem\n",
        "            return grad"
      ]
    },
    {
      "cell_type": "code",
      "execution_count": 3,
      "metadata": {},
      "outputs": [],
      "source": [
        "# class vortex_lif(nn.Module):\n",
        "#     def __init__(self, beta, threshold=0.9, alpha=1, decay_factor=0.5):\n",
        "#         \"\"\"\n",
        "#         Initialize the Vortex LIF model with given parameters.\n",
        "\n",
        "#         Parameters:\n",
        "#         beta (float): Decay rate of the magnetic vortex.\n",
        "#         threshold (float): Threshold for spike generation.\n",
        "#         alpha (float): Constant affecting input current scaling.\n",
        "#         decay_factor (float): Exponential decay factor applied after a spike.\n",
        "#         decay_steps (int): Number of steps to apply the exponential decay after a spike.\n",
        "#         \"\"\"\n",
        "#         super(vortex_lif, self).__init__()\n",
        "\n",
        "#         self.beta = beta\n",
        "#         self.alpha = alpha\n",
        "#         self.threshold = threshold\n",
        "#         self.decay_factor = decay_factor\n",
        "\n",
        "\n",
        "#         # Initialize a tensor to keep track of decay steps after a spike\n",
        "#         self.decay_timer = None\n",
        "\n",
        "#         self.spike_gradient = self.ATan.apply\n",
        "\n",
        "#     def forward(self, input_, mem):\n",
        "#         \"\"\"\n",
        "#         Forward pass for the Vortex LIF neuron.\n",
        "\n",
        "#         Parameters:\n",
        "#         input_ (torch.Tensor): Input current.\n",
        "#         mem (torch.Tensor): Membrane potential.\n",
        "\n",
        "#         Returns:\n",
        "#         spk (torch.Tensor): Spike output.\n",
        "#         mem (torch.Tensor): Updated membrane potential.\n",
        "#         \"\"\"\n",
        "#         input_ = torch.relu(input_)\n",
        "\n",
        "#         dt = 1  # Time step for the simulation\n",
        "\n",
        "#         # Calculate spikes using the custom gradient function\n",
        "#         spk = self.spike_gradient(mem)\n",
        "\n",
        "#         # Initialize decay timer if not already initialized\n",
        "#         if self.decay_timer is None:\n",
        "#             self.decay_timer = torch.zeros_like(mem)\n",
        "\n",
        "\n",
        "#         # Calculate decay steps based on input\n",
        "#         decay_steps = torch.clamp(input_.int(), min=1)  # Ensure at least 1 step\n",
        "        \n",
        "#         # Update decay timer: increment where no spike, reset to decay_steps where spike\n",
        "#         self.decay_timer = torch.where(spk > 0, decay_steps, torch.max(self.decay_timer - 1, torch.zeros_like(self.decay_timer)))\n",
        "\n",
        "        \n",
        "#         mem_update_term = torch.where(self.decay_timer > 0, self.decay_factor * input_ * mem, mem * (input_ * self.alpha - self.beta) * dt)\n",
        "\n",
        "#         # reset = (decay * input_).detach() # remove reset from computational graph\n",
        "\n",
        "#         # Update the membrane potential based on vortex dynamics\n",
        "#         mem = mem + mem_update_term\n",
        "\n",
        "#         return spk, mem\n",
        "\n",
        "#     @staticmethod\n",
        "#     class ATan(torch.autograd.Function):\n",
        "#         @staticmethod\n",
        "#         def forward(ctx, mem):\n",
        "#             \"\"\"\n",
        "#             Forward pass for the custom spike gradient.\n",
        "\n",
        "#             Parameters:\n",
        "#             ctx: Context object to store information for backward computation.\n",
        "#             mem (torch.Tensor): Membrane potential.\n",
        "\n",
        "#             Returns:\n",
        "#             spk (torch.Tensor): Spike output using a Heaviside step function.\n",
        "#             \"\"\"\n",
        "#             spk = ((mem - 0.9) > 0).float()  # Heaviside on the forward pass\n",
        "#             ctx.save_for_backward(mem)  # store the membrane for use in the backward pass\n",
        "#             return spk\n",
        "\n",
        "#         @staticmethod\n",
        "#         def backward(ctx, grad_output):\n",
        "#             \"\"\"\n",
        "#             Backward pass for the custom spike gradient.\n",
        "\n",
        "#             Parameters:\n",
        "#             ctx: Context object containing saved tensors.\n",
        "#             grad_output (torch.Tensor): Gradient of the loss w.r.t. output.\n",
        "\n",
        "#             Returns:\n",
        "#             grad (torch.Tensor): Gradient of the loss w.r.t. input.\n",
        "#             \"\"\"\n",
        "#             (mem,) = ctx.saved_tensors  # retrieve the membrane potential\n",
        "\n",
        "#             # Compute the gradient using an arctangent approximation\n",
        "#             grad = 1 / (1 + (torch.pi * (mem - 0.9)).pow_(2)) * grad_output * mem\n",
        "#             return grad"
      ]
    },
    {
      "cell_type": "markdown",
      "metadata": {
        "id": "zqJdfllYbc16"
      },
      "source": [
        "# 5. Setting up the Static MNIST Dataset"
      ]
    },
    {
      "cell_type": "code",
      "execution_count": 4,
      "metadata": {
        "id": "lI0GbgLgpkos",
        "pycharm": {
          "name": "#%%\n"
        }
      },
      "outputs": [],
      "source": [
        "# dataloader arguments\n",
        "batch_size = 128\n",
        "data_path='/tmp/data/mnist'\n",
        "\n",
        "dtype = torch.float\n",
        "device = torch.device(\"cpu\") #if torch.cuda.is_available() else torch.device(\"cpu\")"
      ]
    },
    {
      "cell_type": "code",
      "execution_count": 5,
      "metadata": {
        "id": "2fhRixcspkot",
        "pycharm": {
          "name": "#%%\n"
        }
      },
      "outputs": [],
      "source": [
        "# Define a transform\n",
        "transform = transforms.Compose([\n",
        "            transforms.Resize((28, 28)),\n",
        "            transforms.Grayscale(),\n",
        "            transforms.ToTensor(),\n",
        "            transforms.Normalize((0,), (1,))])\n",
        "\n",
        "mnist_train = datasets.MNIST(data_path, train=True, download=True, transform=transform)\n",
        "mnist_test = datasets.MNIST(data_path, train=False, download=True, transform=transform)"
      ]
    },
    {
      "cell_type": "code",
      "execution_count": 6,
      "metadata": {
        "id": "aEtCbO6upkou",
        "pycharm": {
          "name": "#%%\n"
        }
      },
      "outputs": [],
      "source": [
        "# Create DataLoaders\n",
        "train_loader = DataLoader(mnist_train, batch_size=batch_size, shuffle=True, drop_last=True)\n",
        "test_loader = DataLoader(mnist_test, batch_size=batch_size, shuffle=True, drop_last=True)"
      ]
    },
    {
      "cell_type": "code",
      "execution_count": 7,
      "metadata": {
        "id": "Lud3kywn55fj"
      },
      "outputs": [],
      "source": [
        "# Network Architecture\n",
        "num_inputs = 28*28\n",
        "num_hidden = 2000\n",
        "num_outputs = 10\n",
        "\n",
        "# Temporal Dynamics\n",
        "num_steps = 25\n",
        "beta = 0.09"
      ]
    },
    {
      "cell_type": "code",
      "execution_count": 8,
      "metadata": {
        "id": "-uquHLLmpkox",
        "pycharm": {
          "name": "#%%\n"
        }
      },
      "outputs": [],
      "source": [
        "# Define Network\n",
        "class Net(nn.Module):\n",
        "    def __init__(self):\n",
        "        super().__init__()\n",
        "\n",
        "        # Initialize layers\n",
        "        self.fc1 = nn.Linear(num_inputs, num_hidden)\n",
        "        self.lif1 = vortex_lif(beta=beta)\n",
        "        self.fc2 = nn.Linear(num_hidden, num_outputs)\n",
        "        self.lif2 = vortex_lif(beta=beta)\n",
        "\n",
        "    def forward(self, x):\n",
        "\n",
        "        # Initialize hidden states at t=0\n",
        "        mem1 = torch.rand(x.size(0), num_hidden, dtype=torch.float32)  \n",
        "        mem2 = torch.rand(x.size(0), num_outputs, dtype=torch.float32)\n",
        "\n",
        "\n",
        "        # Record the final layer\n",
        "\n",
        "        spk2_rec, mem2_rec, cur1_rec, cur2_rec, spk1_rec, mem1_rec = [], [], [], [], [], []\n",
        "\n",
        "        for step in range(num_steps):\n",
        "            cur1 = self.fc1(x)\n",
        "            spk1, mem1 = self.lif1(cur1, mem1)\n",
        "            cur2 = self.fc2(spk1)\n",
        "            spk2, mem2 = self.lif2(cur2, mem2)\n",
        "            cur1_rec.append(cur1)  # Record current for layer 1\n",
        "            spk1_rec.append(spk1)\n",
        "            mem1_rec.append(mem1)\n",
        "            spk2_rec.append(spk2)\n",
        "            mem2_rec.append(mem2)\n",
        "            cur2_rec.append(cur2)  # Record current for layer 2\n",
        "\n",
        "        return torch.stack(cur1_rec, dim=0), torch.stack(cur2_rec, dim=0), torch.stack(spk1_rec, dim=0), torch.stack(mem1_rec, dim=0), torch.stack(spk2_rec, dim=0), torch.stack(mem2_rec, dim=0)\n",
        "\n",
        "\n",
        "# Load the network onto CUDA if available\n",
        "net = Net().to(device)"
      ]
    },
    {
      "cell_type": "code",
      "execution_count": 9,
      "metadata": {
        "id": "-IxcnBAxpkoy",
        "pycharm": {
          "name": "#%%\n"
        }
      },
      "outputs": [],
      "source": [
        "# pass data into the network, sum the spikes over time\n",
        "# and compare the neuron with the highest number of spikes\n",
        "# with the target\n",
        "\n",
        "def print_batch_accuracy(data, targets, train=False):\n",
        "    output = net(data.view(batch_size, -1))\n",
        "    output = output[4]\n",
        "    _, idx = output.sum(dim=0).max(1)\n",
        "    acc = np.mean((targets == idx).detach().cpu().numpy())\n",
        "\n",
        "    if train:\n",
        "        print(f\"Train set accuracy for a single minibatch: {acc*100:.2f}%\")\n",
        "    else:\n",
        "        print(f\"Test set accuracy for a single minibatch: {acc*100:.2f}%\")\n",
        "\n",
        "def train_printer(\n",
        "    data, targets, epoch,\n",
        "    counter, iter_counter,\n",
        "        loss_hist, test_loss_hist, test_data, test_targets):\n",
        "    print(f\"Epoch {epoch}, Iteration {iter_counter}\")\n",
        "    print(f\"Train Set Loss: {loss_hist[counter]:.2f}\")\n",
        "    print(f\"Test Set Loss: {test_loss_hist[counter]:.2f}\")\n",
        "    print_batch_accuracy(data, targets, train=True)\n",
        "    print_batch_accuracy(test_data, test_targets, train=False)\n",
        "    print(\"\\n\")"
      ]
    },
    {
      "cell_type": "code",
      "execution_count": 10,
      "metadata": {
        "id": "iqdVyjCNtdlp"
      },
      "outputs": [],
      "source": [
        "loss = nn.CrossEntropyLoss()"
      ]
    },
    {
      "cell_type": "code",
      "execution_count": 11,
      "metadata": {
        "id": "l62ZR51s9Lxg"
      },
      "outputs": [],
      "source": [
        "optimizer = torch.optim.Adam(net.parameters(), lr=3e-4, betas=(0.9, 0.999))"
      ]
    },
    {
      "cell_type": "code",
      "execution_count": 12,
      "metadata": {
        "id": "Hv1q2-Mt9kVi"
      },
      "outputs": [],
      "source": [
        "data, targets = next(iter(train_loader))\n",
        "data = data.to(device)\n",
        "targets = targets.to(device)"
      ]
    },
    {
      "cell_type": "code",
      "execution_count": 13,
      "metadata": {
        "id": "lltqTEXE92V-"
      },
      "outputs": [
        {
          "name": "stdout",
          "output_type": "stream",
          "text": [
            "torch.Size([25, 128, 10])\n"
          ]
        }
      ],
      "source": [
        "cur1, cur2, spk1_rec, mem1_rec, spk2_rec, mem2_rec = net(data.view(batch_size, -1))\n",
        "print(mem2_rec.size())"
      ]
    },
    {
      "cell_type": "code",
      "execution_count": 14,
      "metadata": {
        "id": "nsnH8y5G-D-z"
      },
      "outputs": [
        {
          "name": "stdout",
          "output_type": "stream",
          "text": [
            "Training loss: 57.988\n"
          ]
        }
      ],
      "source": [
        "# initialize the total loss value\n",
        "loss_val = torch.zeros((1), dtype=dtype, device=device)\n",
        "\n",
        "# sum loss at every step\n",
        "for step in range(num_steps):\n",
        "  loss_val += loss(spk2_rec[step], targets)\n",
        "\n",
        "print(f\"Training loss: {loss_val.item():.3f}\")"
      ]
    },
    {
      "cell_type": "code",
      "execution_count": 15,
      "metadata": {
        "id": "qetPvz7mAArd"
      },
      "outputs": [
        {
          "name": "stdout",
          "output_type": "stream",
          "text": [
            "Train set accuracy for a single minibatch: 14.06%\n"
          ]
        }
      ],
      "source": [
        "print_batch_accuracy(data, targets, train=True)"
      ]
    },
    {
      "cell_type": "code",
      "execution_count": 16,
      "metadata": {
        "id": "WxyBhsmlAsWM"
      },
      "outputs": [],
      "source": [
        "# clear previously stored gradients\n",
        "optimizer.zero_grad()\n",
        "\n",
        "# calculate the gradients\n",
        "loss_val.backward()\n",
        "\n",
        "# weight update\n",
        "optimizer.step()"
      ]
    },
    {
      "cell_type": "code",
      "execution_count": 17,
      "metadata": {
        "id": "l4ZquRR9A9He"
      },
      "outputs": [
        {
          "name": "stdout",
          "output_type": "stream",
          "text": [
            "Training loss: 58.014\n",
            "Train set accuracy for a single minibatch: 12.50%\n"
          ]
        }
      ],
      "source": [
        "# calculate new network outputs using the same data\n",
        "cur1, cur2, spk1_rec, mem1_rec, spk2_rec, mem2_rec = net(data.view(batch_size, -1))\n",
        "\n",
        "# initialize the total loss value\n",
        "loss_val = torch.zeros((1), dtype=dtype, device=device)\n",
        "\n",
        "# sum loss at every step\n",
        "for step in range(num_steps):\n",
        "  loss_val += loss(spk2_rec[step], targets)\n",
        "\n",
        "print(f\"Training loss: {loss_val.item():.3f}\")\n",
        "print_batch_accuracy(data, targets, train=True)"
      ]
    },
    {
      "cell_type": "code",
      "execution_count": 18,
      "metadata": {
        "id": "LMZMxEV8dcTC"
      },
      "outputs": [
        {
          "name": "stdout",
          "output_type": "stream",
          "text": [
            "Epoch 0, Iteration 0\n",
            "Train Set Loss: 58.15\n",
            "Test Set Loss: 58.15\n",
            "Train set accuracy for a single minibatch: 17.19%\n",
            "Test set accuracy for a single minibatch: 9.38%\n",
            "\n",
            "\n",
            "Epoch 0, Iteration 50\n",
            "Train Set Loss: 57.40\n",
            "Test Set Loss: 56.76\n",
            "Train set accuracy for a single minibatch: 27.34%\n",
            "Test set accuracy for a single minibatch: 33.59%\n",
            "\n",
            "\n",
            "Epoch 0, Iteration 100\n",
            "Train Set Loss: 57.89\n",
            "Test Set Loss: 57.00\n",
            "Train set accuracy for a single minibatch: 26.56%\n",
            "Test set accuracy for a single minibatch: 26.56%\n",
            "\n",
            "\n"
          ]
        }
      ],
      "source": [
        "num_epochs = 1\n",
        "loss_hist = []\n",
        "test_loss_hist = []\n",
        "counter = 0\n",
        "\n",
        "# Outer training loop\n",
        "for epoch in range(num_epochs):\n",
        "    iter_counter = 0\n",
        "    train_batch = iter(train_loader)\n",
        "\n",
        "    # Minibatch training loop\n",
        "    for data, targets in train_batch:\n",
        "        data = data.to(device)\n",
        "        targets = targets.to(device)\n",
        "\n",
        "        # forward pass\n",
        "        net.train()\n",
        "        cur1, cur2, spk1_rec, mem1_rec, spk2_rec, mem2_rec = net(data.view(batch_size, -1))\n",
        "\n",
        "        # initialize the loss & sum over time\n",
        "        loss_val = torch.zeros((1), dtype=dtype, device=device)\n",
        "        for step in range(num_steps):\n",
        "            loss_val += loss(spk2_rec[step], targets)\n",
        "\n",
        "        # Gradient calculation + weight update\n",
        "        optimizer.zero_grad()\n",
        "        loss_val.backward()\n",
        "        optimizer.step()\n",
        "\n",
        "        # Store loss history for future plotting\n",
        "        loss_hist.append(loss_val.item())\n",
        "\n",
        "        # Test set\n",
        "        with torch.no_grad():\n",
        "            net.eval()\n",
        "            test_data, test_targets = next(iter(test_loader))\n",
        "            test_data = test_data.to(device)\n",
        "            test_targets = test_targets.to(device)\n",
        "\n",
        "            # Test set forward pass\n",
        "            test_cur1, test_cur2, test_spk1_rec, test_mem1_rec, test_spk2_rec, test_mem2_rec = net(test_data.view(batch_size, -1))\n",
        "\n",
        "            # Test set loss\n",
        "            test_loss = torch.zeros((1), dtype=dtype, device=device)\n",
        "            for step in range(num_steps):\n",
        "                test_loss += loss(test_spk2_rec[step], test_targets)\n",
        "            test_loss_hist.append(test_loss.item())\n",
        "\n",
        "            # Print train/test loss/accuracy\n",
        "            if counter % 50 == 0:\n",
        "                train_printer(\n",
        "                    data, targets, epoch,\n",
        "                    counter, iter_counter,\n",
        "                    loss_hist, test_loss_hist,\n",
        "                    test_data, test_targets)\n",
        "            counter += 1\n",
        "            iter_counter +=1"
      ]
    },
    {
      "cell_type": "code",
      "execution_count": null,
      "metadata": {
        "id": "_Pk_EScnpkpj",
        "pycharm": {
          "name": "#%%\n"
        }
      },
      "outputs": [
        {
          "data": {
            "image/png": "[encoded data removed]",
            "text/plain": [
              "<Figure size 1000x800 with 1 Axes>"
            ]
          },
          "metadata": {},
          "output_type": "display_data"
        }
      ],
      "source": [
        "# Plot Loss\n",
        "plt.rcParams.update({'font.size': 26, 'font.family': 'Times New Roman'})\n",
        "fig = plt.figure(facecolor=\"w\", figsize=(10, 8))\n",
        "plt.plot(loss_hist)\n",
        "plt.plot(test_loss_hist)\n",
        "plt.title(\"Loss Curves\")\n",
        "plt.legend([\"Train Loss\", \"Test Loss\"])\n",
        "plt.xlabel(\"Iteration\")\n",
        "plt.ylabel(\"Loss\")\n",
        "# plt.ylim(0,1000)\n",
        "plt.show()"
      ]
    },
    {
      "cell_type": "code",
      "execution_count": null,
      "metadata": {},
      "outputs": [
        {
          "ename": "RuntimeError",
          "evalue": "The size of tensor a (16) must match the size of tensor b (128) at non-singleton dimension 0",
          "output_type": "error",
          "traceback": [
            "\u001b[1;31m---------------------------------------------------------------------------\u001b[0m",
            "\u001b[1;31mRuntimeError\u001b[0m                              Traceback (most recent call last)",
            "Cell \u001b[1;32mIn[20], line 14\u001b[0m\n\u001b[0;32m     11\u001b[0m targets \u001b[38;5;241m=\u001b[39m targets\u001b[38;5;241m.\u001b[39mto(device)\n\u001b[0;32m     13\u001b[0m \u001b[38;5;66;03m# forward pass\u001b[39;00m\n\u001b[1;32m---> 14\u001b[0m output \u001b[38;5;241m=\u001b[39m net(data\u001b[38;5;241m.\u001b[39mview(data\u001b[38;5;241m.\u001b[39msize(\u001b[38;5;241m0\u001b[39m), \u001b[38;5;241m-\u001b[39m\u001b[38;5;241m1\u001b[39m))\n\u001b[0;32m     16\u001b[0m test_spk \u001b[38;5;241m=\u001b[39m output[\u001b[38;5;241m4\u001b[39m]\n\u001b[0;32m     17\u001b[0m \u001b[38;5;66;03m# calculate total accuracy\u001b[39;00m\n",
            "File \u001b[1;32mc:\\Users\\SKM\\anaconda3\\Lib\\site-packages\\torch\\nn\\modules\\module.py:1518\u001b[0m, in \u001b[0;36mModule._wrapped_call_impl\u001b[1;34m(self, *args, **kwargs)\u001b[0m\n\u001b[0;32m   1516\u001b[0m     \u001b[38;5;28;01mreturn\u001b[39;00m \u001b[38;5;28mself\u001b[39m\u001b[38;5;241m.\u001b[39m_compiled_call_impl(\u001b[38;5;241m*\u001b[39margs, \u001b[38;5;241m*\u001b[39m\u001b[38;5;241m*\u001b[39mkwargs)  \u001b[38;5;66;03m# type: ignore[misc]\u001b[39;00m\n\u001b[0;32m   1517\u001b[0m \u001b[38;5;28;01melse\u001b[39;00m:\n\u001b[1;32m-> 1518\u001b[0m     \u001b[38;5;28;01mreturn\u001b[39;00m \u001b[38;5;28mself\u001b[39m\u001b[38;5;241m.\u001b[39m_call_impl(\u001b[38;5;241m*\u001b[39margs, \u001b[38;5;241m*\u001b[39m\u001b[38;5;241m*\u001b[39mkwargs)\n",
            "File \u001b[1;32mc:\\Users\\SKM\\anaconda3\\Lib\\site-packages\\torch\\nn\\modules\\module.py:1527\u001b[0m, in \u001b[0;36mModule._call_impl\u001b[1;34m(self, *args, **kwargs)\u001b[0m\n\u001b[0;32m   1522\u001b[0m \u001b[38;5;66;03m# If we don't have any hooks, we want to skip the rest of the logic in\u001b[39;00m\n\u001b[0;32m   1523\u001b[0m \u001b[38;5;66;03m# this function, and just call forward.\u001b[39;00m\n\u001b[0;32m   1524\u001b[0m \u001b[38;5;28;01mif\u001b[39;00m \u001b[38;5;129;01mnot\u001b[39;00m (\u001b[38;5;28mself\u001b[39m\u001b[38;5;241m.\u001b[39m_backward_hooks \u001b[38;5;129;01mor\u001b[39;00m \u001b[38;5;28mself\u001b[39m\u001b[38;5;241m.\u001b[39m_backward_pre_hooks \u001b[38;5;129;01mor\u001b[39;00m \u001b[38;5;28mself\u001b[39m\u001b[38;5;241m.\u001b[39m_forward_hooks \u001b[38;5;129;01mor\u001b[39;00m \u001b[38;5;28mself\u001b[39m\u001b[38;5;241m.\u001b[39m_forward_pre_hooks\n\u001b[0;32m   1525\u001b[0m         \u001b[38;5;129;01mor\u001b[39;00m _global_backward_pre_hooks \u001b[38;5;129;01mor\u001b[39;00m _global_backward_hooks\n\u001b[0;32m   1526\u001b[0m         \u001b[38;5;129;01mor\u001b[39;00m _global_forward_hooks \u001b[38;5;129;01mor\u001b[39;00m _global_forward_pre_hooks):\n\u001b[1;32m-> 1527\u001b[0m     \u001b[38;5;28;01mreturn\u001b[39;00m forward_call(\u001b[38;5;241m*\u001b[39margs, \u001b[38;5;241m*\u001b[39m\u001b[38;5;241m*\u001b[39mkwargs)\n\u001b[0;32m   1529\u001b[0m \u001b[38;5;28;01mtry\u001b[39;00m:\n\u001b[0;32m   1530\u001b[0m     result \u001b[38;5;241m=\u001b[39m \u001b[38;5;28;01mNone\u001b[39;00m\n",
            "Cell \u001b[1;32mIn[8], line 25\u001b[0m, in \u001b[0;36mNet.forward\u001b[1;34m(self, x)\u001b[0m\n\u001b[0;32m     23\u001b[0m \u001b[38;5;28;01mfor\u001b[39;00m step \u001b[38;5;129;01min\u001b[39;00m \u001b[38;5;28mrange\u001b[39m(num_steps):\n\u001b[0;32m     24\u001b[0m     cur1 \u001b[38;5;241m=\u001b[39m \u001b[38;5;28mself\u001b[39m\u001b[38;5;241m.\u001b[39mfc1(x)\n\u001b[1;32m---> 25\u001b[0m     spk1, mem1 \u001b[38;5;241m=\u001b[39m \u001b[38;5;28mself\u001b[39m\u001b[38;5;241m.\u001b[39mlif1(cur1, mem1)\n\u001b[0;32m     26\u001b[0m     cur2 \u001b[38;5;241m=\u001b[39m \u001b[38;5;28mself\u001b[39m\u001b[38;5;241m.\u001b[39mfc2(spk1)\n\u001b[0;32m     27\u001b[0m     spk2, mem2 \u001b[38;5;241m=\u001b[39m \u001b[38;5;28mself\u001b[39m\u001b[38;5;241m.\u001b[39mlif2(cur2, mem2)\n",
            "File \u001b[1;32mc:\\Users\\SKM\\anaconda3\\Lib\\site-packages\\torch\\nn\\modules\\module.py:1518\u001b[0m, in \u001b[0;36mModule._wrapped_call_impl\u001b[1;34m(self, *args, **kwargs)\u001b[0m\n\u001b[0;32m   1516\u001b[0m     \u001b[38;5;28;01mreturn\u001b[39;00m \u001b[38;5;28mself\u001b[39m\u001b[38;5;241m.\u001b[39m_compiled_call_impl(\u001b[38;5;241m*\u001b[39margs, \u001b[38;5;241m*\u001b[39m\u001b[38;5;241m*\u001b[39mkwargs)  \u001b[38;5;66;03m# type: ignore[misc]\u001b[39;00m\n\u001b[0;32m   1517\u001b[0m \u001b[38;5;28;01melse\u001b[39;00m:\n\u001b[1;32m-> 1518\u001b[0m     \u001b[38;5;28;01mreturn\u001b[39;00m \u001b[38;5;28mself\u001b[39m\u001b[38;5;241m.\u001b[39m_call_impl(\u001b[38;5;241m*\u001b[39margs, \u001b[38;5;241m*\u001b[39m\u001b[38;5;241m*\u001b[39mkwargs)\n",
            "File \u001b[1;32mc:\\Users\\SKM\\anaconda3\\Lib\\site-packages\\torch\\nn\\modules\\module.py:1527\u001b[0m, in \u001b[0;36mModule._call_impl\u001b[1;34m(self, *args, **kwargs)\u001b[0m\n\u001b[0;32m   1522\u001b[0m \u001b[38;5;66;03m# If we don't have any hooks, we want to skip the rest of the logic in\u001b[39;00m\n\u001b[0;32m   1523\u001b[0m \u001b[38;5;66;03m# this function, and just call forward.\u001b[39;00m\n\u001b[0;32m   1524\u001b[0m \u001b[38;5;28;01mif\u001b[39;00m \u001b[38;5;129;01mnot\u001b[39;00m (\u001b[38;5;28mself\u001b[39m\u001b[38;5;241m.\u001b[39m_backward_hooks \u001b[38;5;129;01mor\u001b[39;00m \u001b[38;5;28mself\u001b[39m\u001b[38;5;241m.\u001b[39m_backward_pre_hooks \u001b[38;5;129;01mor\u001b[39;00m \u001b[38;5;28mself\u001b[39m\u001b[38;5;241m.\u001b[39m_forward_hooks \u001b[38;5;129;01mor\u001b[39;00m \u001b[38;5;28mself\u001b[39m\u001b[38;5;241m.\u001b[39m_forward_pre_hooks\n\u001b[0;32m   1525\u001b[0m         \u001b[38;5;129;01mor\u001b[39;00m _global_backward_pre_hooks \u001b[38;5;129;01mor\u001b[39;00m _global_backward_hooks\n\u001b[0;32m   1526\u001b[0m         \u001b[38;5;129;01mor\u001b[39;00m _global_forward_hooks \u001b[38;5;129;01mor\u001b[39;00m _global_forward_pre_hooks):\n\u001b[1;32m-> 1527\u001b[0m     \u001b[38;5;28;01mreturn\u001b[39;00m forward_call(\u001b[38;5;241m*\u001b[39margs, \u001b[38;5;241m*\u001b[39m\u001b[38;5;241m*\u001b[39mkwargs)\n\u001b[0;32m   1529\u001b[0m \u001b[38;5;28;01mtry\u001b[39;00m:\n\u001b[0;32m   1530\u001b[0m     result \u001b[38;5;241m=\u001b[39m \u001b[38;5;28;01mNone\u001b[39;00m\n",
            "Cell \u001b[1;32mIn[2], line 53\u001b[0m, in \u001b[0;36mvortex_lif.forward\u001b[1;34m(self, input_, mem)\u001b[0m\n\u001b[0;32m     50\u001b[0m trigger \u001b[38;5;241m=\u001b[39m torch\u001b[38;5;241m.\u001b[39mones_like(mem)  \n\u001b[0;32m     52\u001b[0m \u001b[38;5;66;03m# Update trigger tensor: zero where no spike and one where spike\u001b[39;00m\n\u001b[1;32m---> 53\u001b[0m \u001b[38;5;28mself\u001b[39m\u001b[38;5;241m.\u001b[39mtrigger_tensor \u001b[38;5;241m=\u001b[39m torch\u001b[38;5;241m.\u001b[39mwhere(spk \u001b[38;5;241m>\u001b[39m \u001b[38;5;241m0\u001b[39m, trigger, torch\u001b[38;5;241m.\u001b[39mzeros_like(\u001b[38;5;28mself\u001b[39m\u001b[38;5;241m.\u001b[39mtrigger_tensor))\n\u001b[0;32m     56\u001b[0m \u001b[38;5;66;03m# dummy tensor to keep track updated mem due to spike based trigger\u001b[39;00m\n\u001b[0;32m     57\u001b[0m dummy_tensor \u001b[38;5;241m=\u001b[39m torch\u001b[38;5;241m.\u001b[39mwhere(\u001b[38;5;28mself\u001b[39m\u001b[38;5;241m.\u001b[39mtrigger_tensor \u001b[38;5;241m>\u001b[39m \u001b[38;5;241m0\u001b[39m, torch\u001b[38;5;241m.\u001b[39mmax(\u001b[38;5;241m0.1\u001b[39m \u001b[38;5;241m*\u001b[39m torch\u001b[38;5;241m.\u001b[39mones_like(mem), mem \u001b[38;5;241m-\u001b[39m mem \u001b[38;5;241m*\u001b[39m \u001b[38;5;28mself\u001b[39m\u001b[38;5;241m.\u001b[39mgamma \u001b[38;5;241m*\u001b[39m input_ \u001b[38;5;241m*\u001b[39m dt), torch\u001b[38;5;241m.\u001b[39mzeros_like(mem))\n",
            "\u001b[1;31mRuntimeError\u001b[0m: The size of tensor a (16) must match the size of tensor b (128) at non-singleton dimension 0"
          ]
        }
      ],
      "source": [
        "# total = 0\n",
        "# correct = 0\n",
        "\n",
        "# # drop_last switched to False to keep all samples\n",
        "# test_loader = DataLoader(mnist_test, batch_size=batch_size, shuffle=True, drop_last=False)\n",
        "\n",
        "# with torch.no_grad():\n",
        "#   net.eval()\n",
        "#   for data, targets in test_loader:\n",
        "#     data = data.to(device)\n",
        "#     targets = targets.to(device)\n",
        "\n",
        "#     # forward pass\n",
        "#     output = net(data.view(data.size(0), -1))\n",
        "     \n",
        "#     test_spk = output[4]\n",
        "#     # calculate total accuracy\n",
        "#     _, predicted = test_spk.sum(dim=0).max(1)\n",
        "#     total += targets.size(0)\n",
        "#     correct += (predicted == targets).sum().item()\n",
        "\n",
        "# print(f\"Total correctly classified test set images: {correct}/{total}\")\n",
        "# print(f\"Test Set Accuracy: {100 * correct / total:.2f}%\")"
      ]
    },
    {
      "cell_type": "code",
      "execution_count": null,
      "metadata": {},
      "outputs": [],
      "source": [
        "# # Complete Code with Confusion Matrix\n",
        "\n",
        "# import matplotlib.pyplot as plt\n",
        "# from sklearn.metrics import confusion_matrix\n",
        "# import seaborn as sns\n",
        "\n",
        "# # Function to get predictions for the entire dataset\n",
        "# def get_all_preds(loader):\n",
        "#     all_preds = torch.tensor([]).to(device)\n",
        "#     all_labels = torch.tensor([]).to(device)\n",
        "#     for data, targets in loader:\n",
        "#         data, targets = data.to(device), targets.to(device)\n",
        "#         output = net(data.view(data.size(0), -1))\n",
        "        \n",
        "#         spk_rec = output[4]\n",
        "#         preds = spk_rec.sum(dim=0).max(1)\n",
        "#         all_preds = torch.cat((all_preds, preds), dim=0)\n",
        "#         all_labels = torch.cat((all_labels, targets), dim=0)\n",
        "#     return all_preds, all_labels\n",
        "\n",
        "# # Function to print batch accuracy\n",
        "# def print_batch_accuracy(data, targets, train=False):\n",
        "#     output, _ = net(data.view(batch_size, -1))\n",
        "#     _, idx = output.sum(dim=0).max(1)\n",
        "#     acc = np.mean((targets == idx).detach().cpu().numpy())\n",
        "\n",
        "#     if train:\n",
        "#         print(f\"Train set accuracy for a single minibatch: {acc*100:.2f}%\")\n",
        "#     else:\n",
        "#         print(f\"Test set accuracy for a single minibatch: {acc*100:.2f}%\")\n",
        "\n",
        "# # Function to train and print progress\n",
        "# def train_printer(\n",
        "#     data, targets, epoch,\n",
        "#     counter, iter_counter,\n",
        "#         loss_hist, test_loss_hist, test_data, test_targets):\n",
        "#     print(f\"Epoch {epoch}, Iteration {iter_counter}\")\n",
        "#     print(f\"Train Set Loss: {loss_hist[counter]:.2f}\")\n",
        "#     print(f\"Test Set Loss: {test_loss_hist[counter]:.2f}\")\n",
        "#     print_batch_accuracy(data, targets, train=True)\n",
        "#     print_batch_accuracy(test_data, test_targets, train=False)\n",
        "#     print(\"\\n\")\n",
        "\n",
        "# # Training parameters\n",
        "# num_epochs = 5  # Adjust as necessary\n",
        "\n",
        "# # Train the network\n",
        "# for epoch in range(num_epochs):\n",
        "#     for i, (data, targets) in enumerate(train_loader):\n",
        "#         data, targets = data.to(device), targets.to(device)\n",
        "#         optimizer.zero_grad()\n",
        "#         spk_rec, mem_rec = net(data.view(batch_size, -1))\n",
        "\n",
        "#         # Initialize the loss value\n",
        "#         loss_val = torch.zeros((1), dtype=dtype, device=device)\n",
        "#         for step in range(num_steps):\n",
        "#             loss_val += loss(mem_rec[step], targets)\n",
        "\n",
        "#         loss_val.backward()\n",
        "#         optimizer.step()\n",
        "\n",
        "#         if i % 100 == 0:\n",
        "#             test_data, test_targets = next(iter(test_loader))\n",
        "#             test_data, test_targets = test_data.to(device), test_targets.to(device)\n",
        "#             train_printer(\n",
        "#                 data, targets, epoch, i, i,\n",
        "#                 [loss_val.item()], [loss_val.item()],\n",
        "#                 test_data, test_targets\n",
        "#             )\n",
        "\n",
        "# # Get predictions and labels for the test dataset\n",
        "# test_preds, test_labels = get_all_preds(test_loader)\n",
        "\n",
        "# # Calculate the confusion matrix\n",
        "# conf_matrix = confusion_matrix(test_labels.cpu(), test_preds.cpu())\n",
        "\n",
        "# # Plot the confusion matrix\n",
        "# plt.figure(figsize=(10, 8))\n",
        "# sns.heatmap(conf_matrix, annot=True, fmt='d', cmap='Blues')\n",
        "# plt.xlabel('Predicted Label')\n",
        "# plt.ylabel('True Label')\n",
        "# plt.title('Confusion Matrix')\n",
        "# plt.show()\n"
      ]
    },
    {
      "cell_type": "code",
      "execution_count": null,
      "metadata": {
        "id": "F5Rb4xHGndQh"
      },
      "outputs": [],
      "source": [
        "# total = 0\n",
        "# correct = 0\n",
        "\n",
        "# # drop_last switched to False to keep all samples\n",
        "# test_loader = DataLoader(mnist_test, batch_size=batch_size, shuffle=True, drop_last=False)\n",
        "\n",
        "# with torch.no_grad():\n",
        "#   net.eval()\n",
        "#   for data, targets in test_loader:\n",
        "#     data = data.to(device)\n",
        "#     targets = targets.to(device)\n",
        "\n",
        "#     # forward pass\n",
        "#     test_spk, _ = net(data.view(data.size(0), -1))\n",
        "\n",
        "#     # calculate total accuracy\n",
        "#     _, predicted = test_spk.sum(dim=0).max(1)\n",
        "#     total += targets.size(0)\n",
        "#     correct += (predicted == targets).sum().item()\n",
        "\n",
        "# print(f\"Total correctly classified test set images: {correct}/{total}\")\n",
        "# print(f\"Test Set Accuracy: {100 * correct / total:.2f}%\")"
      ]
    },
    {
      "cell_type": "code",
      "execution_count": null,
      "metadata": {},
      "outputs": [],
      "source": [
        "# # Define the path to save the model\n",
        "# model_save_path = 'all_param_vortex_model_1.pth'\n",
        "\n",
        "# # Save the model parameters\n",
        "# torch.save(net.state_dict(), model_save_path)\n",
        "# print(f\"Model parameters saved to {model_save_path}\")\n"
      ]
    }
  ],
  "metadata": {
    "accelerator": "GPU",
    "colab": {
      "name": "snntorch_tutorial_5.ipynb",
      "provenance": []
    },
    "kernelspec": {
      "display_name": "Python 3",
      "language": "python",
      "name": "python3"
    },
    "language_info": {
      "codemirror_mode": {
        "name": "ipython",
        "version": 3
      },
      "file_extension": ".py",
      "mimetype": "text/x-python",
      "name": "python",
      "nbconvert_exporter": "python",
      "pygments_lexer": "ipython3",
      "version": "3.11.7"
    },
    "vscode": {
      "interpreter": {
        "hash": "aee8b7b246df8f9039afb4144a1f6fd8d2ca17a180786b69acc140d282b71a49"
      }
    }
  },
  "nbformat": 4,
  "nbformat_minor": 0
}
